{
 "cells": [
  {
   "cell_type": "markdown",
   "id": "c55f18e7-6ef9-4d4b-9952-a470e9f9c6ca",
   "metadata": {},
   "source": [
    "## 1️⃣ Análise Exploratória de Dados (EDA)\n",
    "\n",
    "### 💡 Conceito\n",
    "**EDA (Exploratory Data Analysis)** é o processo de explorar e resumir dados para extrair informações úteis. É usado por cientistas de dados para analisar e investigar conjuntos de dados e resumir suas principais características.\n"
   ]
  },
  {
   "cell_type": "code",
   "execution_count": 1,
   "id": "b7619541-18ec-4365-9e72-e0ef8551e827",
   "metadata": {},
   "outputs": [],
   "source": [
    "import pandas as pd\n",
    "import numpy as np"
   ]
  },
  {
   "cell_type": "code",
   "execution_count": 7,
   "id": "97dd4db7-526d-495b-8a82-2abc78fe3a2e",
   "metadata": {},
   "outputs": [
    {
     "name": "stdout",
     "output_type": "stream",
     "text": [
      "Dados das notas dos alunos: [85, 90, 78, 92, 88, 76, 94, 82, 89, 91]\n",
      "Média das notas: 86.50\n",
      "Maior nota: 94\n",
      "Menor nota: 76\n",
      "Mediana das notas: 88.50\n"
     ]
    }
   ],
   "source": [
    "# Exemplo simples de EDA\n",
    "notas = [85, 90, 78, 92, 88, 76, 94, 82, 89, 91]\n",
    "notas_array = np.array(notas) #transforma lista de em array\n",
    "\n",
    "print(f\"Dados das notas dos alunos: {notas}\") #printa todas as notas\n",
    "print(f\"Média das notas: {notas_array.mean():.2f}\") #média\n",
    "print(f\"Maior nota: {notas_array.max()}\") #maior nota do conjunto de dados\n",
    "print(f\"Menor nota: {notas_array.min()}\") #menor\n",
    "print(f\"Mediana das notas: {np.median(notas_array):.2f}\") #mediana"
   ]
  },
  {
   "cell_type": "markdown",
   "id": "bdfd0198-cb5e-46b3-91d5-493714935577",
   "metadata": {},
   "source": [
    "### 🏋️ Exercício 1\n",
    "Complete o código abaixo para fazer uma EDA básica das vendas mensais:"
   ]
  },
  {
   "cell_type": "code",
   "execution_count": 2,
   "id": "d07c28a2-14cb-437c-866e-1ced4d38e09e",
   "metadata": {},
   "outputs": [
    {
     "name": "stdout",
     "output_type": "stream",
     "text": [
      "Vendas mensais: [1200, 1450, 1100, 1600, 1350, 1250, 1400]\n",
      "Média de vendas: 1335.7142857142858\n",
      "Maior venda: 1600\n",
      "Mediana de vendas: 1350.00\n"
     ]
    }
   ],
   "source": [
    "vendas_mes = [1200, 1450, 1100, 1600, 1350, 1250, 1400]\n",
    "vendas_array = np.array(vendas_mes)\n",
    "\n",
    "# TODO: Calcule a média das vendas usando numpy\n",
    "media_vendas = None  # Substitua por: vendas_array.mean()\n",
    "\n",
    "# TODO: Encontre o mês com maior venda usando numpy\n",
    "maior_venda = None   # Substitua por: vendas_array.max()\n",
    "\n",
    "# TODO: Calcule a mediana usando numpy\n",
    "mediana_vendas = None  # Substitua por: np.median(vendas_array)\n",
    "\n",
    "print(f\"Vendas mensais: {vendas_mes}\")\n",
    "print(f\"Média de vendas: {vendas_array.mean()}\")\n",
    "print(f\"Maior venda: {vendas_array.max()}\")\n",
    "print(f\"Mediana de vendas: {np.median(vendas_array):.2f}\")"
   ]
  },
  {
   "cell_type": "markdown",
   "id": "a99a6d8d-4e09-46ba-9f30-9afd7fe3099a",
   "metadata": {},
   "source": [
    "---\n",
    "\n",
    "## 2️⃣ Tipos de Dados\n",
    "\n",
    "### 💡 Conceito\n",
    "Os dados vêm de diversas fontes: sensores, eventos, textos, imagens e vídeos. Existem diferentes tipos de dados estruturados:\n",
    "\n",
    "- **Categóricos**: Conjunto específico de valores (cores, tipos)\n",
    "- **Discretos**: Apenas valores inteiros (contagens)\n",
    "- **Binários**: Apenas dois valores (0/1, True/False)\n",
    "- **Contínuos**: Qualquer valor em um intervalo (altura, peso)\n",
    "- **Ordinais**: Categóricos com ordem (avaliações 1-5)"
   ]
  },
  {
   "cell_type": "code",
   "execution_count": 3,
   "id": "3b6a8e76-2f39-4914-9554-c9c8d010f3ad",
   "metadata": {},
   "outputs": [
    {
     "name": "stdout",
     "output_type": "stream",
     "text": [
      "Categóricos (cores): ['azul', 'vermelho', 'verde', 'azul', 'amarelo']\n",
      "Discretos (número de filhos): [0, 2, 1, 3, 0, 1, 2]\n",
      "Binários (aprovado/reprovado): [True, False, True, True, False]\n",
      "Contínuos (alturas em metros): [1.75, 1.68, 1.82, 1.7, 1.65]\n",
      "Ordinais (avaliações): ['ruim', 'bom', 'excelente', 'regular', 'bom']\n"
     ]
    }
   ],
   "source": [
    "# Dados Categóricos\n",
    "cores = [\"azul\", \"vermelho\", \"verde\", \"azul\", \"amarelo\"]\n",
    "print(f\"Categóricos (cores): {cores}\")\n",
    "\n",
    "# Dados Discretos (contagens)\n",
    "num_filhos = [0, 2, 1, 3, 0, 1, 2]\n",
    "print(f\"Discretos (número de filhos): {num_filhos}\")\n",
    "\n",
    "# Dados Binários\n",
    "aprovado = [True, False, True, True, False]\n",
    "print(f\"Binários (aprovado/reprovado): {aprovado}\")\n",
    "\n",
    "# Dados Contínuos\n",
    "alturas = [1.75, 1.68, 1.82, 1.70, 1.65]\n",
    "print(f\"Contínuos (alturas em metros): {alturas}\")\n",
    "\n",
    "# Dados Ordinais\n",
    "avaliacoes = [\"ruim\", \"bom\", \"excelente\", \"regular\", \"bom\"]\n",
    "print(f\"Ordinais (avaliações): {avaliacoes}\")"
   ]
  },
  {
   "cell_type": "markdown",
   "id": "6c7ff2ce-a193-46a6-99ca-234b162c4e46",
   "metadata": {},
   "source": [
    "### 🏋️ Exercício 2\n",
    "Classifique os tipos de dados abaixo:"
   ]
  },
  {
   "cell_type": "code",
   "execution_count": 4,
   "id": "2fbf9ab2-da43-468a-a652-4ab7f2e03054",
   "metadata": {},
   "outputs": [
    {
     "name": "stdout",
     "output_type": "stream",
     "text": [
      "a) Temperaturas são dados: [23.5, 25.1, 22.8, 26.3, 24.7] (contínuos)\n",
      "b) Sexo são dados: ['M', 'F', 'M', 'F', 'M'] (categóricos)\n",
      "c) Avaliação em estrelas são dados: [1, 2, 3, 4, 5, 3, 4] (ordinais)\n",
      "d) Possui carro são dados: [True, False, True, False, True] (binários)\n"
     ]
    }
   ],
   "source": [
    "dados_temperatura = [23.5, 25.1, 22.8, 26.3, 24.7]\n",
    "dados_sexo = [\"M\", \"F\", \"M\", \"F\", \"M\"]\n",
    "dados_estrelas = [1, 2, 3, 4, 5, 3, 4]\n",
    "dados_possui_carro = [True, False, True, False, True]\n",
    "\n",
    "print(f\"a) Temperaturas são dados: {dados_temperatura} (contínuos)\")\n",
    "print(f\"b) Sexo são dados: {dados_sexo} (categóricos)\")  \n",
    "print(f\"c) Avaliação em estrelas são dados: {dados_estrelas} (ordinais)\")\n",
    "print(f\"d) Possui carro são dados: {dados_possui_carro} (binários)\")"
   ]
  },
  {
   "cell_type": "markdown",
   "id": "8bd5e3ee-0db2-428e-87ce-921cac48ca91",
   "metadata": {},
   "source": [
    "---\n",
    "\n",
    "## 3️⃣ Dados Retangulares\n",
    "\n",
    "### 💡 Conceito\n",
    "**Dados retangulares** são organizados em tabelas (linhas e colunas), como planilhas Excel. No Python pandas, usamos **DataFrames**. \n",
    "\n",
    "- Cada linha = uma observação\n",
    "- Cada coluna = uma variável"
   ]
  },
  {
   "cell_type": "code",
   "execution_count": 5,
   "id": "af173c04-299e-46fc-887a-da542edc9a20",
   "metadata": {},
   "outputs": [
    {
     "name": "stdout",
     "output_type": "stream",
     "text": [
      "📋 Exemplo de dados retangulares:\n"
     ]
    },
    {
     "data": {
      "text/html": [
       "<div>\n",
       "<style scoped>\n",
       "    .dataframe tbody tr th:only-of-type {\n",
       "        vertical-align: middle;\n",
       "    }\n",
       "\n",
       "    .dataframe tbody tr th {\n",
       "        vertical-align: top;\n",
       "    }\n",
       "\n",
       "    .dataframe thead th {\n",
       "        text-align: right;\n",
       "    }\n",
       "</style>\n",
       "<table border=\"1\" class=\"dataframe\">\n",
       "  <thead>\n",
       "    <tr style=\"text-align: right;\">\n",
       "      <th></th>\n",
       "      <th>nome</th>\n",
       "      <th>idade</th>\n",
       "      <th>nota</th>\n",
       "      <th>aprovado</th>\n",
       "    </tr>\n",
       "  </thead>\n",
       "  <tbody>\n",
       "    <tr>\n",
       "      <th>0</th>\n",
       "      <td>Ana</td>\n",
       "      <td>20</td>\n",
       "      <td>8.5</td>\n",
       "      <td>True</td>\n",
       "    </tr>\n",
       "    <tr>\n",
       "      <th>1</th>\n",
       "      <td>João</td>\n",
       "      <td>22</td>\n",
       "      <td>7.2</td>\n",
       "      <td>True</td>\n",
       "    </tr>\n",
       "    <tr>\n",
       "      <th>2</th>\n",
       "      <td>Maria</td>\n",
       "      <td>21</td>\n",
       "      <td>9.1</td>\n",
       "      <td>True</td>\n",
       "    </tr>\n",
       "    <tr>\n",
       "      <th>3</th>\n",
       "      <td>Pedro</td>\n",
       "      <td>23</td>\n",
       "      <td>6.8</td>\n",
       "      <td>False</td>\n",
       "    </tr>\n",
       "    <tr>\n",
       "      <th>4</th>\n",
       "      <td>Carla</td>\n",
       "      <td>20</td>\n",
       "      <td>8.9</td>\n",
       "      <td>True</td>\n",
       "    </tr>\n",
       "  </tbody>\n",
       "</table>\n",
       "</div>"
      ],
      "text/plain": [
       "    nome  idade  nota  aprovado\n",
       "0    Ana     20   8.5      True\n",
       "1   João     22   7.2      True\n",
       "2  Maria     21   9.1      True\n",
       "3  Pedro     23   6.8     False\n",
       "4  Carla     20   8.9      True"
      ]
     },
     "execution_count": 5,
     "metadata": {},
     "output_type": "execute_result"
    }
   ],
   "source": [
    "dados_estudantes = {\n",
    "    'nome': ['Ana', 'João', 'Maria', 'Pedro', 'Carla'],\n",
    "    'idade': [20, 22, 21, 23, 20],\n",
    "    'nota': [8.5, 7.2, 9.1, 6.8, 8.9],\n",
    "    'aprovado': [True, True, True, False, True]\n",
    "}\n",
    "\n",
    "tabela_estudantes = pd.DataFrame(dados_estudantes) #TRANFORMA O DATAFRAME EM TABELAS\n",
    "print(\"📋 Exemplo de dados retangulares:\")\n",
    "tabela_estudantes"
   ]
  },
  {
   "cell_type": "code",
   "execution_count": 9,
   "id": "aac25d94-27d5-42f7-968b-9b7cb90aa203",
   "metadata": {},
   "outputs": [
    {
     "name": "stdout",
     "output_type": "stream",
     "text": [
      "\n",
      "Forma dos dados: (5, 4) (linhas, colunas)\n",
      "Colunas: ['nome', 'idade', 'nota', 'aprovado']\n"
     ]
    }
   ],
   "source": [
    "print(f\"\\nForma dos dados: {tabela_estudantes.shape} (linhas, colunas)\")\n",
    "print(f\"Colunas: {list(tabela_estudantes.columns)}\")"
   ]
  },
  {
   "cell_type": "markdown",
   "id": "92ae5581-e86e-4afd-a916-f11ec5bea388",
   "metadata": {},
   "source": [
    "### 🏋️ Exercício 3\n",
    "Crie um DataFrame com dados de produtos:"
   ]
  },
  {
   "cell_type": "code",
   "execution_count": 25,
   "id": "32a8e4d9-6980-42e8-bfbd-4f32bd2ba00b",
   "metadata": {},
   "outputs": [
    {
     "data": {
      "text/html": [
       "<div>\n",
       "<style scoped>\n",
       "    .dataframe tbody tr th:only-of-type {\n",
       "        vertical-align: middle;\n",
       "    }\n",
       "\n",
       "    .dataframe tbody tr th {\n",
       "        vertical-align: top;\n",
       "    }\n",
       "\n",
       "    .dataframe thead th {\n",
       "        text-align: right;\n",
       "    }\n",
       "</style>\n",
       "<table border=\"1\" class=\"dataframe\">\n",
       "  <thead>\n",
       "    <tr style=\"text-align: right;\">\n",
       "      <th></th>\n",
       "      <th>produto</th>\n",
       "      <th>preco</th>\n",
       "      <th>categoria</th>\n",
       "      <th>em_estoque</th>\n",
       "    </tr>\n",
       "  </thead>\n",
       "  <tbody>\n",
       "    <tr>\n",
       "      <th>0</th>\n",
       "      <td>Notebook</td>\n",
       "      <td>3000</td>\n",
       "      <td>computadores</td>\n",
       "      <td>true</td>\n",
       "    </tr>\n",
       "    <tr>\n",
       "      <th>1</th>\n",
       "      <td>mouse</td>\n",
       "      <td>123</td>\n",
       "      <td>acessórios</td>\n",
       "      <td>False</td>\n",
       "    </tr>\n",
       "    <tr>\n",
       "      <th>2</th>\n",
       "      <td>Teclado</td>\n",
       "      <td>147</td>\n",
       "      <td>periféricos</td>\n",
       "      <td>True</td>\n",
       "    </tr>\n",
       "    <tr>\n",
       "      <th>3</th>\n",
       "      <td>Monitor</td>\n",
       "      <td>1240</td>\n",
       "      <td>Ooutros</td>\n",
       "      <td>true</td>\n",
       "    </tr>\n",
       "  </tbody>\n",
       "</table>\n",
       "</div>"
      ],
      "text/plain": [
       "    produto  preco     categoria em_estoque\n",
       "0  Notebook   3000  computadores       true\n",
       "1     mouse    123    acessórios      False\n",
       "2   Teclado    147   periféricos       True\n",
       "3   Monitor   1240       Ooutros       true"
      ]
     },
     "execution_count": 25,
     "metadata": {},
     "output_type": "execute_result"
    }
   ],
   "source": [
    "# TODO: Complete o dicionário abaixo\n",
    "# dados_produtos = {\n",
    "#     'produto': ['Notebook', 'Mouse', 'Teclado', 'Monitor'],\n",
    "#     'preco': [2500, 50, 150, 800],\n",
    "#     'categoria': ['Eletrônico', 'acessórios', 'periféricos','Outros'],  # TODO: Adicione categorias como ['eletrônicos', 'acessórios', ...]\n",
    "#     'em_estoque': ['True', 'False', 'True', 'False'],  # TODO: Adicione valores True/False\n",
    "# }\n",
    "\n",
    "dados_produtos = {\n",
    "    'produto': ['Notebook', 'mouse', 'Teclado', 'Monitor'],\n",
    "    'preco': [3000, 123, 147, 1240],\n",
    "    'categoria': ['computadores', 'acessórios', 'periféricos', 'Ooutros'],\n",
    "    'em_estoque': ['true', 'False', 'True','true'],\n",
    "}\n",
    "\n",
    "df_produtos = pd.DataFrame(dados_produtos)\n",
    "df_produtos\n",
    "# Descomente a linha abaixo após completar o dicionário\n",
    "# df_produtos = pd.DataFrame(dados_produtos)\n",
    "# df_produtos"
   ]
  },
  {
   "cell_type": "markdown",
   "id": "f88d6f79-31c4-4efe-866e-f2efc8e1e07e",
   "metadata": {},
   "source": [
    "---\n",
    "\n",
    "## 4️⃣ Outros Tipos de Dados\n",
    "\n",
    "### 💡 Conceito\n",
    "Nem todo dado cabe em uma tabela! Existem outros tipos importantes:\n",
    "\n",
    "- **Séries temporais**: dados medidos ao longo do tempo\n",
    "- **Dados espaciais**: coordenadas geográficas, mapas\n",
    "- **Redes (grafos)**: conexões e relacionamentos"
   ]
  },
  {
   "cell_type": "code",
   "execution_count": null,
   "id": "88bb324e-c938-4366-8a2d-a08cf61c01f2",
   "metadata": {},
   "outputs": [],
   "source": [
    "# Exemplo de série temporal simples\n",
    "datas = ['2024-01-01', '2024-01-02', '2024-01-03', '2024-01-04']\n",
    "vendas_diarias = [100, 120, 90, 150]\n",
    "\n",
    "print(\"📈 Série Temporal (vendas por dia):\")\n",
    "for data, venda in zip(datas, vendas_diarias):\n",
    "    print(f\"  {data}: {venda} unidades\")"
   ]
  },
  {
   "cell_type": "code",
   "execution_count": null,
   "id": "6f72bf0f-ab41-47c0-a4c5-96438514ef12",
   "metadata": {},
   "outputs": [],
   "source": [
    "# Exemplo de dados espaciais\n",
    "print(\"🗺️ Dados Espaciais (coordenadas de lojas):\")\n",
    "lojas_coordenadas = [\n",
    "    ('Loja Centro', -1.4558, -48.4902),\n",
    "    ('Loja Norte', -1.4200, -48.4500),\n",
    "    ('Loja Sul', -1.4800, -48.5000)\n",
    "]\n",
    "\n",
    "for nome, lat, lon in lojas_coordenadas:\n",
    "    print(f\"  {nome}: ({lat}, {lon})\")"
   ]
  },
  {
   "cell_type": "markdown",
   "id": "60ff888f-9378-4e60-81c1-e48b172e5af0",
   "metadata": {},
   "source": [
    "### 🏋️ Exercício 4\n",
    "Identifique o tipo de dado:"
   ]
  },
  {
   "cell_type": "code",
   "execution_count": null,
   "id": "90de3686-432d-43e9-88f6-1086e4927264",
   "metadata": {},
   "outputs": [],
   "source": [
    "print(\"a) Temperaturas medidas de hora em hora: _________\")\n",
    "print(\"b) Localização GPS de delivery: _________\")\n",
    "print(\"c) Rede de amigos no Facebook: _________\")\n",
    "print(\"d) Tabela de funcionários com salários: _________\")"
   ]
  },
  {
   "cell_type": "markdown",
   "id": "21fc2a9a-8f52-4f6c-aa9a-42dae98d2f82",
   "metadata": {},
   "source": [
    "---\n",
    "\n",
    "## 5️⃣ Estimativas de Localização\n",
    "\n",
    "### 💡 Conceito\n",
    "Medidas que nos ajudam a entender onde os dados estão \"centrados\":\n",
    "\n",
    "- **Média**: soma de todos os valores ÷ número de valores\n",
    "- **Mediana**: valor do meio quando dados estão ordenados\n",
    "- **Média aparada**: média excluindo valores extremos\n",
    "- **Outlier**: valor muito diferente da maioria"
   ]
  },
  {
   "cell_type": "code",
   "execution_count": 29,
   "id": "9ea93cd8-e477-4e43-ad2c-25a335594ee0",
   "metadata": {},
   "outputs": [
    {
     "name": "stdout",
     "output_type": "stream",
     "text": [
      "💰 Salários: [3000, 3200, 2800, 3500, 2900, 3100, 15000, 3300]\n",
      "Média: R$ 4600.00\n",
      "Mediana: R$ 3150.00\n",
      "Média Aparada: R$ 3166.67\n",
      "Salários ordenados: [2800, 2900, 3000, 3100, 3200, 3300, 3500, 15000]\n"
     ]
    }
   ],
   "source": [
    "from scipy.stats import trim_mean # Média Aparada\n",
    "\n",
    "# Dados de exemplo: salários de funcionários\n",
    "salarios = [3000, 3200, 2800, 3500, 2900, 3100, 15000, 3300]  # Note o outlier!\n",
    "salarios_series = pd.Series(salarios)\n",
    "\n",
    "print(f\"💰 Salários: {salarios}\")\n",
    "\n",
    "# Calculando diferentes medidas usando pandas\n",
    "print(f\"Média: R$ {salarios_series.mean():.2f}\")\n",
    "print(f\"Mediana: R$ {salarios_series.median():.2f}\")\n",
    "\n",
    "# Cálculo da média aparada removendo 20% dos valores (10% menores e 10% maiores)\n",
    "media_aparada = trim_mean(salarios_series, proportiontocut=0.2)\n",
    "print(f\"Média Aparada: R$ {media_aparada:.2f}\")\n",
    "\n",
    "print(f\"Salários ordenados: {sorted(salarios)}\")"
   ]
  },
  {
   "cell_type": "code",
   "execution_count": 30,
   "id": "db233e61-da4f-4b02-b37b-356124cf1635",
   "metadata": {},
   "outputs": [
    {
     "name": "stdout",
     "output_type": "stream",
     "text": [
      "🚨 Outlier detectado: R$ 15000 (muito diferente dos outros)\n",
      "A mediana é mais representativa que a média quando há outliers!\n"
     ]
    }
   ],
   "source": [
    "# Identificando outlier usando pandas\n",
    "print(f\"🚨 Outlier detectado: R$ {salarios_series.max()} (muito diferente dos outros)\")\n",
    "print(\"A mediana é mais representativa que a média quando há outliers!\")"
   ]
  },
  {
   "cell_type": "markdown",
   "id": "4ea00f6f-a27c-4108-b29a-1405e7553a75",
   "metadata": {},
   "source": [
    "### 🏋️ Exercício 5\n",
    "Calcule as medidas para as idades:"
   ]
  },
  {
   "cell_type": "code",
   "execution_count": null,
   "id": "319027b3-0630-46b7-ac4b-aece5e1eb667",
   "metadata": {},
   "outputs": [],
   "source": [
    "idades = [25, 27, 23, 26, 24, 28, 45, 25, 26]  # Uma pessoa bem mais velha\n",
    "idades_series = pd.Series(idades)\n",
    "\n",
    "# TODO: Calcule a média usando pandas\n",
    "media_idade = None  # idades_series.mean()\n",
    "\n",
    "# TODO: Encontre a mediana usando pandas\n",
    "mediana_idade = None  # idades_series.median()\n",
    "\n",
    "# TODO: Identifique o outlier usando pandas\n",
    "outlier_idade = None  # idades_series.max() ou idades_series.min()\n",
    "\n",
    "# TODO: Calcule a média aparada\n",
    "media_aparada = None  # trim_mean(idades_series, proportiontocut=0.2)\n",
    "\n",
    "print(f\"Idades: {idades}\")\n",
    "print(f\"Média das idades: {media_idade}\")\n",
    "print(f\"Mediana das idades: {mediana_idade}\")\n",
    "print(f\"Média Aparada: {media_aparada}\")\n",
    "print(f\"Possível outlier: {outlier_idade}\")"
   ]
  },
  {
   "cell_type": "markdown",
   "id": "50db0e8c-93ef-49b1-b1ad-2c46bc4bf0e7",
   "metadata": {},
   "source": [
    "## 6️⃣ Exercício Final - Prática Integrada\n",
    "\n",
    "### 🎯 Desafio: Análise completa de dados de uma loja\n",
    "\n",
    "Vamos aplicar todos os conceitos aprendidos!"
   ]
  },
  {
   "cell_type": "code",
   "execution_count": null,
   "id": "71fb46f8-db31-44a1-ba0c-860592e502b1",
   "metadata": {},
   "outputs": [],
   "source": [
    "# Dados da loja (misturando todos os conceitos)\n",
    "dados_loja = {\n",
    "    'produto': ['Smartphone', 'Fone', 'Carregador', 'Capa', 'Tablet'],\n",
    "    'categoria': ['eletrônicos', 'acessórios', 'acessórios', 'acessórios', 'eletrônicos'],\n",
    "    'preco': [800, 120, 45, 25, 600],\n",
    "    'vendas_mes': [50, 200, 150, 300, 30],\n",
    "    'avaliacao': [4, 5, 3, 4, 5],  # 1 a 5 estrelas\n",
    "    'disponivel': [True, True, False, True, True]\n",
    "}\n",
    "\n",
    "print(\"🏪 DADOS DA LOJA:\")\n",
    "df_loja = pd.DataFrame(dados_loja)\n",
    "df_loja"
   ]
  },
  {
   "cell_type": "code",
   "execution_count": null,
   "id": "a1ff297c-8ec0-48ad-a85e-7394f7a2bf43",
   "metadata": {},
   "outputs": [],
   "source": [
    "print(f\"\\n📊 Resumo estatístico dos dados:\")\n",
    "df_loja.describe()"
   ]
  },
  {
   "cell_type": "markdown",
   "id": "5c3b21ea-f3ae-43e7-8016-ae8c0dc26d03",
   "metadata": {},
   "source": [
    "### 📊 Exercício final:"
   ]
  },
  {
   "cell_type": "code",
   "execution_count": null,
   "id": "441c3071-29e9-4a45-be9e-14e84b1f31b0",
   "metadata": {},
   "outputs": [],
   "source": [
    "# 1. Qual a média de preços dos produtos?\n",
    "media_precos = None\n",
    "\n",
    "# 2. Qual produto tem maior número de vendas?\n",
    "idx_mais_vendido = None \n",
    "produto_mais_vendido = None\n",
    "\n",
    "# 3. Quantos produtos estão disponíveis?\n",
    "produtos_disponiveis = None\n",
    "\n",
    "# 4. Qual a avaliação mediana dos produtos?\n",
    "avaliacao_mediana = None\n",
    "\n",
    "# 5. Calcule a média aparada dos preços\n",
    "media_aparada_precos = None\n",
    "\n",
    "\n",
    "print(\"Respostas:\")\n",
    "print(f\"1. Média de preços: R$ {media_precos}\")\n",
    "print(f\"2. Produto mais vendido: {produto_mais_vendido}\")\n",
    "print(f\"3. Produtos disponíveis: {produtos_disponiveis}\")\n",
    "print(f\"4. Avaliação mediana: {avaliacao_mediana}\")\n",
    "print(f\"5. Média Aparada: R$ {media_aparada_precos}\")"
   ]
  },
  {
   "cell_type": "markdown",
   "id": "405a3fa1-2941-4d57-9d44-b4048d79a334",
   "metadata": {},
   "source": [
    "### 💡 Recapitulando o que aprendemos:\n",
    "- ✅ **EDA**: Como explorar dados básicos\n",
    "- ✅ **Tipos de dados**: Categóricos, discretos, contínuos, binários, ordinais\n",
    "- ✅ **Dados retangulares**: DataFrames do pandas\n",
    "- ✅ **Outros tipos**: Séries temporais, dados espaciais, redes\n",
    "- ✅ **Estimativas**: Média, mediana, outliers"
   ]
  }
 ],
 "metadata": {
  "kernelspec": {
   "display_name": "Python 3",
   "language": "python",
   "name": "python3"
  },
  "language_info": {
   "codemirror_mode": {
    "name": "ipython",
    "version": 3
   },
   "file_extension": ".py",
   "mimetype": "text/x-python",
   "name": "python",
   "nbconvert_exporter": "python",
   "pygments_lexer": "ipython3",
   "version": "3.13.2"
  }
 },
 "nbformat": 4,
 "nbformat_minor": 5
}
